{
 "cells": [
  {
   "cell_type": "code",
   "execution_count": 1,
   "metadata": {},
   "outputs": [],
   "source": [
    "import pandas as pd\n",
    "import os\n",
    "import emoji\n",
    "import regex as re"
   ]
  },
  {
   "cell_type": "code",
   "execution_count": 2,
   "metadata": {},
   "outputs": [],
   "source": [
    "folder_path = \"../dataset/clockworks-scraper\""
   ]
  },
  {
   "cell_type": "code",
   "execution_count": 3,
   "metadata": {},
   "outputs": [],
   "source": [
    "csv_files = [f for f in os.listdir(folder_path) if f.endswith('.csv')]"
   ]
  },
  {
   "cell_type": "code",
   "execution_count": 4,
   "metadata": {},
   "outputs": [],
   "source": [
    "dfs = [pd.read_csv(os.path.join(folder_path, file), encoding='utf-8') for file in csv_files]\n",
    "combined_df = pd.concat(dfs, ignore_index=True)"
   ]
  },
  {
   "cell_type": "code",
   "execution_count": 5,
   "metadata": {},
   "outputs": [
    {
     "name": "stdout",
     "output_type": "stream",
     "text": [
      "<class 'pandas.core.frame.DataFrame'>\n",
      "RangeIndex: 23043 entries, 0 to 23042\n",
      "Data columns (total 17 columns):\n",
      " #   Column             Non-Null Count  Dtype  \n",
      "---  ------             --------------  -----  \n",
      " 0   avatarThumbnail    23039 non-null  object \n",
      " 1   cid                23042 non-null  float64\n",
      " 2   createTime         23042 non-null  float64\n",
      " 3   createTimeISO      23042 non-null  object \n",
      " 4   diggCount          23042 non-null  float64\n",
      " 5   repliesToId        4430 non-null   float64\n",
      " 6   replyCommentTotal  18612 non-null  float64\n",
      " 7   submittedVideoUrl  23042 non-null  object \n",
      " 8   text               23042 non-null  object \n",
      " 9   uid                23042 non-null  float64\n",
      " 10  uniqueId           23039 non-null  object \n",
      " 11  videoWebUrl        23042 non-null  object \n",
      " 12  error              1 non-null      object \n",
      " 13  input              13744 non-null  object \n",
      " 14  likedByAuthor      13744 non-null  object \n",
      " 15  pinnedByAuthor     11235 non-null  object \n",
      " 16  url                1 non-null      object \n",
      "dtypes: float64(6), object(11)\n",
      "memory usage: 3.0+ MB\n"
     ]
    }
   ],
   "source": [
    "combined_df.info()"
   ]
  },
  {
   "cell_type": "code",
   "execution_count": 6,
   "metadata": {},
   "outputs": [
    {
     "name": "stderr",
     "output_type": "stream",
     "text": [
      "C:\\Users\\Mufid Musyaffa\\AppData\\Local\\Temp\\ipykernel_9060\\3432758757.py:5: SettingWithCopyWarning: \n",
      "A value is trying to be set on a copy of a slice from a DataFrame.\n",
      "Try using .loc[row_indexer,col_indexer] = value instead\n",
      "\n",
      "See the caveats in the documentation: https://pandas.pydata.org/pandas-docs/stable/user_guide/indexing.html#returning-a-view-versus-a-copy\n",
      "  data['text'] = data['text'].astype(str).str.lower()\n",
      "C:\\Users\\Mufid Musyaffa\\AppData\\Local\\Temp\\ipykernel_9060\\3432758757.py:32: SettingWithCopyWarning: \n",
      "A value is trying to be set on a copy of a slice from a DataFrame.\n",
      "Try using .loc[row_indexer,col_indexer] = value instead\n",
      "\n",
      "See the caveats in the documentation: https://pandas.pydata.org/pandas-docs/stable/user_guide/indexing.html#returning-a-view-versus-a-copy\n",
      "  data['text'] = data['text'].apply(clean_tiktok_text)\n"
     ]
    },
    {
     "data": {
      "text/html": [
       "<div>\n",
       "<style scoped>\n",
       "    .dataframe tbody tr th:only-of-type {\n",
       "        vertical-align: middle;\n",
       "    }\n",
       "\n",
       "    .dataframe tbody tr th {\n",
       "        vertical-align: top;\n",
       "    }\n",
       "\n",
       "    .dataframe thead th {\n",
       "        text-align: right;\n",
       "    }\n",
       "</style>\n",
       "<table border=\"1\" class=\"dataframe\">\n",
       "  <thead>\n",
       "    <tr style=\"text-align: right;\">\n",
       "      <th></th>\n",
       "      <th>cid</th>\n",
       "      <th>submittedVideoUrl</th>\n",
       "      <th>text</th>\n",
       "    </tr>\n",
       "  </thead>\n",
       "  <tbody>\n",
       "    <tr>\n",
       "      <th>0</th>\n",
       "      <td>7.424290e+18</td>\n",
       "      <td>https://www.tiktok.com/@sundarindah/video/7424...</td>\n",
       "      <td>sayangnya orang-orang terdekat yang justru mem...</td>\n",
       "    </tr>\n",
       "    <tr>\n",
       "      <th>1</th>\n",
       "      <td>7.424297e+18</td>\n",
       "      <td>https://www.tiktok.com/@sundarindah/video/7424...</td>\n",
       "      <td>justru malah org trdekat yg menghancurkan ment...</td>\n",
       "    </tr>\n",
       "    <tr>\n",
       "      <th>2</th>\n",
       "      <td>7.467563e+18</td>\n",
       "      <td>https://www.tiktok.com/@sundarindah/video/7424...</td>\n",
       "      <td>halo ka indah sundari</td>\n",
       "    </tr>\n",
       "    <tr>\n",
       "      <th>3</th>\n",
       "      <td>7.424316e+18</td>\n",
       "      <td>https://www.tiktok.com/@sundarindah/video/7424...</td>\n",
       "      <td>justru orang terdekat malah jadi penyebabnya</td>\n",
       "    </tr>\n",
       "    <tr>\n",
       "      <th>4</th>\n",
       "      <td>7.455553e+18</td>\n",
       "      <td>https://www.tiktok.com/@sundarindah/video/7424...</td>\n",
       "      <td>ka tolong aku</td>\n",
       "    </tr>\n",
       "  </tbody>\n",
       "</table>\n",
       "</div>"
      ],
      "text/plain": [
       "            cid                                  submittedVideoUrl  \\\n",
       "0  7.424290e+18  https://www.tiktok.com/@sundarindah/video/7424...   \n",
       "1  7.424297e+18  https://www.tiktok.com/@sundarindah/video/7424...   \n",
       "2  7.467563e+18  https://www.tiktok.com/@sundarindah/video/7424...   \n",
       "3  7.424316e+18  https://www.tiktok.com/@sundarindah/video/7424...   \n",
       "4  7.455553e+18  https://www.tiktok.com/@sundarindah/video/7424...   \n",
       "\n",
       "                                                text  \n",
       "0  sayangnya orang-orang terdekat yang justru mem...  \n",
       "1  justru malah org trdekat yg menghancurkan ment...  \n",
       "2                              halo ka indah sundari  \n",
       "3       justru orang terdekat malah jadi penyebabnya  \n",
       "4                                      ka tolong aku  "
      ]
     },
     "execution_count": 6,
     "metadata": {},
     "output_type": "execute_result"
    }
   ],
   "source": [
    "# Remove NaN values before processing\n",
    "data = combined_df.dropna(subset=['text'])\n",
    "\n",
    "# Text Normalization - Convert to lowercase\n",
    "data['text'] = data['text'].astype(str).str.lower()\n",
    "\n",
    "# Removing Mentions, Emojis, and Emoticons\n",
    "def remove_mentions(text):\n",
    "    return re.sub(r'@\\w+', '', text)\n",
    "\n",
    "def remove_emojis(text):\n",
    "    return emoji.replace_emoji(text, replace='')\n",
    "\n",
    "def remove_emoticons(text):\n",
    "    emoticon_pattern = r'[:;=8xX][-^]?[\\)DPOp\\*\\(\\|\\\\\\/ ]'\n",
    "    return re.sub(emoticon_pattern, '', text)\n",
    "\n",
    "def majority_special_chars(text):\n",
    "    special_chars = re.sub(r'[a-zA-Z0-9\\s]', '', text)  # Extract special characters\n",
    "    return len(special_chars) > len(text) / 2  # Check if majority are special chars\n",
    "\n",
    "def clean_tiktok_text(text):\n",
    "    if pd.isna(text):  # Handle missing values\n",
    "        return \"\"\n",
    "    text = remove_mentions(text)  # Remove mentions\n",
    "    text = remove_emojis(text)    # Remove emojis\n",
    "    text = remove_emoticons(text) # Remove ASCII emoticons\n",
    "    text = re.sub(r'\\s+', ' ', text).strip()  # Remove extra spaces\n",
    "    return text\n",
    "\n",
    "# Apply cleaning function\n",
    "data['text'] = data['text'].apply(clean_tiktok_text)\n",
    "\n",
    "# Remove rows where 'text' is empty after cleaning\n",
    "data = data[data['text'].str.strip() != \"\"]\n",
    "\n",
    "# Remove rows where 'text' has 4 characters or less\n",
    "data = data[data['text'].str.len() > 4]\n",
    "\n",
    "# Remove rows where the majority of characters are special characters\n",
    "data = data[~data['text'].apply(majority_special_chars)]\n",
    "\n",
    "# Remove duplicate text entries\n",
    "data = data.drop_duplicates(subset=['text'])\n",
    "\n",
    "# Keep only required columns\n",
    "data = data[['cid', 'submittedVideoUrl', 'text']]\n",
    "\n",
    "# Display cleaned text\n",
    "data.head()"
   ]
  },
  {
   "cell_type": "code",
   "execution_count": 7,
   "metadata": {},
   "outputs": [],
   "source": [
    "cleaned_df = data"
   ]
  },
  {
   "cell_type": "code",
   "execution_count": 8,
   "metadata": {},
   "outputs": [
    {
     "data": {
      "text/plain": [
       "0"
      ]
     },
     "execution_count": 8,
     "metadata": {},
     "output_type": "execute_result"
    }
   ],
   "source": [
    "cleaned_df.duplicated(subset=['text']).sum()"
   ]
  },
  {
   "cell_type": "code",
   "execution_count": 9,
   "metadata": {},
   "outputs": [],
   "source": [
    "output_filename = \"cleaned_dataset.csv\"\n",
    "cleaned_df.to_csv(output_filename, index=False, encoding='utf-8')"
   ]
  },
  {
   "cell_type": "code",
   "execution_count": 10,
   "metadata": {},
   "outputs": [
    {
     "name": "stdout",
     "output_type": "stream",
     "text": [
      "Dataset bersih telah disimpan di cleaned_dataset.csv\n"
     ]
    },
    {
     "data": {
      "text/html": [
       "<div>\n",
       "<style scoped>\n",
       "    .dataframe tbody tr th:only-of-type {\n",
       "        vertical-align: middle;\n",
       "    }\n",
       "\n",
       "    .dataframe tbody tr th {\n",
       "        vertical-align: top;\n",
       "    }\n",
       "\n",
       "    .dataframe thead th {\n",
       "        text-align: right;\n",
       "    }\n",
       "</style>\n",
       "<table border=\"1\" class=\"dataframe\">\n",
       "  <thead>\n",
       "    <tr style=\"text-align: right;\">\n",
       "      <th></th>\n",
       "      <th>cid</th>\n",
       "      <th>submittedVideoUrl</th>\n",
       "      <th>text</th>\n",
       "    </tr>\n",
       "  </thead>\n",
       "  <tbody>\n",
       "    <tr>\n",
       "      <th>0</th>\n",
       "      <td>7.424290e+18</td>\n",
       "      <td>https://www.tiktok.com/@sundarindah/video/7424...</td>\n",
       "      <td>sayangnya orang-orang terdekat yang justru mem...</td>\n",
       "    </tr>\n",
       "    <tr>\n",
       "      <th>1</th>\n",
       "      <td>7.424297e+18</td>\n",
       "      <td>https://www.tiktok.com/@sundarindah/video/7424...</td>\n",
       "      <td>justru malah org trdekat yg menghancurkan ment...</td>\n",
       "    </tr>\n",
       "    <tr>\n",
       "      <th>2</th>\n",
       "      <td>7.467563e+18</td>\n",
       "      <td>https://www.tiktok.com/@sundarindah/video/7424...</td>\n",
       "      <td>halo ka indah sundari</td>\n",
       "    </tr>\n",
       "    <tr>\n",
       "      <th>3</th>\n",
       "      <td>7.424316e+18</td>\n",
       "      <td>https://www.tiktok.com/@sundarindah/video/7424...</td>\n",
       "      <td>justru orang terdekat malah jadi penyebabnya</td>\n",
       "    </tr>\n",
       "    <tr>\n",
       "      <th>4</th>\n",
       "      <td>7.455553e+18</td>\n",
       "      <td>https://www.tiktok.com/@sundarindah/video/7424...</td>\n",
       "      <td>ka tolong aku</td>\n",
       "    </tr>\n",
       "  </tbody>\n",
       "</table>\n",
       "</div>"
      ],
      "text/plain": [
       "            cid                                  submittedVideoUrl  \\\n",
       "0  7.424290e+18  https://www.tiktok.com/@sundarindah/video/7424...   \n",
       "1  7.424297e+18  https://www.tiktok.com/@sundarindah/video/7424...   \n",
       "2  7.467563e+18  https://www.tiktok.com/@sundarindah/video/7424...   \n",
       "3  7.424316e+18  https://www.tiktok.com/@sundarindah/video/7424...   \n",
       "4  7.455553e+18  https://www.tiktok.com/@sundarindah/video/7424...   \n",
       "\n",
       "                                                text  \n",
       "0  sayangnya orang-orang terdekat yang justru mem...  \n",
       "1  justru malah org trdekat yg menghancurkan ment...  \n",
       "2                              halo ka indah sundari  \n",
       "3       justru orang terdekat malah jadi penyebabnya  \n",
       "4                                      ka tolong aku  "
      ]
     },
     "execution_count": 10,
     "metadata": {},
     "output_type": "execute_result"
    }
   ],
   "source": [
    "print(f\"Dataset bersih telah disimpan di {output_filename}\")\n",
    "cleaned_df.head()"
   ]
  },
  {
   "cell_type": "code",
   "execution_count": 11,
   "metadata": {},
   "outputs": [
    {
     "name": "stdout",
     "output_type": "stream",
     "text": [
      "<class 'pandas.core.frame.DataFrame'>\n",
      "Index: 14021 entries, 0 to 23041\n",
      "Data columns (total 3 columns):\n",
      " #   Column             Non-Null Count  Dtype  \n",
      "---  ------             --------------  -----  \n",
      " 0   cid                14021 non-null  float64\n",
      " 1   submittedVideoUrl  14021 non-null  object \n",
      " 2   text               14021 non-null  object \n",
      "dtypes: float64(1), object(2)\n",
      "memory usage: 438.2+ KB\n",
      "Dataset bersih telah disimpan di cleaned_dataset.csv\n",
      "Jumlah data sebelum: 23043, setelah: 14021\n"
     ]
    }
   ],
   "source": [
    "cleaned_df.info()\n",
    "print(f\"Dataset bersih telah disimpan di {output_filename}\")\n",
    "print(f\"Jumlah data sebelum: {combined_df.shape[0]}, setelah: {cleaned_df.shape[0]}\")"
   ]
  }
 ],
 "metadata": {
  "kernelspec": {
   "display_name": "Python 3",
   "language": "python",
   "name": "python3"
  },
  "language_info": {
   "codemirror_mode": {
    "name": "ipython",
    "version": 3
   },
   "file_extension": ".py",
   "mimetype": "text/x-python",
   "name": "python",
   "nbconvert_exporter": "python",
   "pygments_lexer": "ipython3",
   "version": "3.12.0"
  }
 },
 "nbformat": 4,
 "nbformat_minor": 2
}
