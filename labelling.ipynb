{
 "cells": [
  {
   "cell_type": "code",
   "execution_count": 1,
   "metadata": {},
   "outputs": [],
   "source": [
    "import pandas as pd\n",
    "pd.set_option('display.max_colwidth', None)"
   ]
  },
  {
   "cell_type": "code",
   "execution_count": 2,
   "metadata": {},
   "outputs": [
    {
     "data": {
      "text/html": [
       "<div>\n",
       "<style scoped>\n",
       "    .dataframe tbody tr th:only-of-type {\n",
       "        vertical-align: middle;\n",
       "    }\n",
       "\n",
       "    .dataframe tbody tr th {\n",
       "        vertical-align: top;\n",
       "    }\n",
       "\n",
       "    .dataframe thead th {\n",
       "        text-align: right;\n",
       "    }\n",
       "</style>\n",
       "<table border=\"1\" class=\"dataframe\">\n",
       "  <thead>\n",
       "    <tr style=\"text-align: right;\">\n",
       "      <th></th>\n",
       "      <th>cid</th>\n",
       "      <th>submittedVideoUrl</th>\n",
       "      <th>text</th>\n",
       "    </tr>\n",
       "  </thead>\n",
       "  <tbody>\n",
       "    <tr>\n",
       "      <th>0</th>\n",
       "      <td>7.424290e+18</td>\n",
       "      <td>https://www.tiktok.com/@sundarindah/video/7424130682529516805</td>\n",
       "      <td>sayangnya orang-orang terdekat yang justru membuat mental kita sakit dan lelah</td>\n",
       "    </tr>\n",
       "    <tr>\n",
       "      <th>1</th>\n",
       "      <td>7.424297e+18</td>\n",
       "      <td>https://www.tiktok.com/@sundarindah/video/7424130682529516805</td>\n",
       "      <td>justru malah org trdekat yg menghancurkan mental ku, aku tdk prcya siapapun, caraku mengatasi ini semua dgn meditasi agar lbih tenang</td>\n",
       "    </tr>\n",
       "    <tr>\n",
       "      <th>2</th>\n",
       "      <td>7.467563e+18</td>\n",
       "      <td>https://www.tiktok.com/@sundarindah/video/7424130682529516805</td>\n",
       "      <td>halo ka indah sundari</td>\n",
       "    </tr>\n",
       "    <tr>\n",
       "      <th>3</th>\n",
       "      <td>7.424316e+18</td>\n",
       "      <td>https://www.tiktok.com/@sundarindah/video/7424130682529516805</td>\n",
       "      <td>justru orang terdekat malah jadi penyebabnya</td>\n",
       "    </tr>\n",
       "    <tr>\n",
       "      <th>4</th>\n",
       "      <td>7.455553e+18</td>\n",
       "      <td>https://www.tiktok.com/@sundarindah/video/7424130682529516805</td>\n",
       "      <td>ka tolong aku</td>\n",
       "    </tr>\n",
       "  </tbody>\n",
       "</table>\n",
       "</div>"
      ],
      "text/plain": [
       "            cid  \\\n",
       "0  7.424290e+18   \n",
       "1  7.424297e+18   \n",
       "2  7.467563e+18   \n",
       "3  7.424316e+18   \n",
       "4  7.455553e+18   \n",
       "\n",
       "                                               submittedVideoUrl  \\\n",
       "0  https://www.tiktok.com/@sundarindah/video/7424130682529516805   \n",
       "1  https://www.tiktok.com/@sundarindah/video/7424130682529516805   \n",
       "2  https://www.tiktok.com/@sundarindah/video/7424130682529516805   \n",
       "3  https://www.tiktok.com/@sundarindah/video/7424130682529516805   \n",
       "4  https://www.tiktok.com/@sundarindah/video/7424130682529516805   \n",
       "\n",
       "                                                                                                                                    text  \n",
       "0                                                         sayangnya orang-orang terdekat yang justru membuat mental kita sakit dan lelah  \n",
       "1  justru malah org trdekat yg menghancurkan mental ku, aku tdk prcya siapapun, caraku mengatasi ini semua dgn meditasi agar lbih tenang  \n",
       "2                                                                                                                  halo ka indah sundari  \n",
       "3                                                                                           justru orang terdekat malah jadi penyebabnya  \n",
       "4                                                                                                                          ka tolong aku  "
      ]
     },
     "execution_count": 2,
     "metadata": {},
     "output_type": "execute_result"
    }
   ],
   "source": [
    "df = pd.read_csv('cleaned_dataset.csv')\n",
    "df.head()"
   ]
  },
  {
   "cell_type": "code",
   "execution_count": 6,
   "metadata": {},
   "outputs": [],
   "source": [
    "aware_keywords = [\n",
    "    # Umum\n",
    "    \"mental health\", \"kesehatan mental\", \"psikolog\", \"psikiater\", \"konselor\", \"terapis\", \"trauma\", \"healing\", \"self healing\", \n",
    "    \"butuh bantuan\", \"cari bantuan\", \"bantuan profesional\", \"cerita ke psikolog\", \"dampak psikologis\", \"emosi tidak stabil\",\n",
    "\n",
    "    # Dukungan sosial\n",
    "    \"support system\", \"lingkungan suportif\", \"safe space\", \"tidak judgemental\", \"berempati\", \"stop stigma\", \"buka ruang bicara\", \n",
    "    \"saling mendengar\", \"berani cerita\", \"teman yang peduli\", \"keluarga suportif\", \"peduli sesama\", \"tidak menghakimi\",\n",
    "\n",
    "    # Pemahaman mendalam\n",
    "    \"normal cari bantuan\", \"valid merasa lelah\", \"mental health itu nyata\", \"tidak semua luka terlihat\", \n",
    "    \"kesehatan mental sama pentingnya\", \"healing itu proses\", \"boleh nangis\", \"boleh istirahat\", \"boleh rapuh\", \"boleh lelah\", \n",
    "    \"tidak apa-apa tidak baik-baik saja\", \"penerimaan diri\", \"self awareness\", \"self acceptance\", \"keseimbangan emosional\", \n",
    "    \"krisis psikologis\", \"burnout\", \"depresi bukan lelucon\", \"anxiety bukan drama\", \"mental breakdown\"\n",
    "]\n",
    "\n",
    "not_aware_keywords = [\n",
    "    \"cuma buat anak\", \"anak-anak aja\", \"gak usah lebay\", \"bucin\", \"lemah mental\", \"mental health itu lemah\", \"terlalu drama\", \n",
    "    \"baper\", \"mental tempe\", \"gak tahan hidup\", \"gak kuat mental\", \"harus siap hidup\", \"manja banget\", \"mikir dikit stres\", \n",
    "    \"zaman dulu gak ada\", \"ngapain ke psikolog\", \"sendiri aja bisa\", \"terlalu sensitif\", \"kurang ibadah\", \"kurang iman\", \n",
    "    \"mental health alay\", \"cuma alasan\", \"drama queen\", \"banyak gaya\", \"sakit jiwa semua\", \"kebanyakan nonton drakor\", \n",
    "    \"gak bersyukur\", \"cuma ngeluh\", \"cari perhatian\", \"ngemis perhatian\", \"males mikir\", \"nyari simpati\", \n",
    "    \"semua orang juga punya masalah\", \"tinggal jalanin aja\", \"mental health bukan alasan\"\n",
    "]\n",
    "\n",
    "# sarcasm_or_ironic = [\n",
    "#     \"haha\", \"wkwk\", \"sarkas\", \"lebay amat\", \"zaman sekarang mah dikit-dikit mental health\", \n",
    "#     \"dikit-dikit healing\", \"healing mulu kerja kapan\", \"sakit hati dibilang gangguan mental\", \n",
    "#     \"kalo mental health beneran ada\", \"cuma alasan buat males\", \"gila semua\", \n",
    "#     \"bilangnya depresi padahal gabut\", \"sakit mental kok upload\", \"dikit-dikit trauma\", \n",
    "#     \"trauma katanya\", \"sok trauma\", \"katanya kena mental\", \"kerja dikit bilang burnout\", \n",
    "#     \"gak dikasih jajan bilang tertekan\", \"nangis dikit bilang anxiety\", \"biar dianggap keren\", \n",
    "#     \"sok self healing\", \"bawa-bawa mental health mulu\"\n",
    "# ]\n"
   ]
  },
  {
   "cell_type": "code",
   "execution_count": null,
   "metadata": {},
   "outputs": [
    {
     "data": {
      "text/html": [
       "<div>\n",
       "<style scoped>\n",
       "    .dataframe tbody tr th:only-of-type {\n",
       "        vertical-align: middle;\n",
       "    }\n",
       "\n",
       "    .dataframe tbody tr th {\n",
       "        vertical-align: top;\n",
       "    }\n",
       "\n",
       "    .dataframe thead th {\n",
       "        text-align: right;\n",
       "    }\n",
       "</style>\n",
       "<table border=\"1\" class=\"dataframe\">\n",
       "  <thead>\n",
       "    <tr style=\"text-align: right;\">\n",
       "      <th></th>\n",
       "      <th>cid</th>\n",
       "      <th>submittedVideoUrl</th>\n",
       "      <th>text</th>\n",
       "      <th>label</th>\n",
       "    </tr>\n",
       "  </thead>\n",
       "  <tbody>\n",
       "    <tr>\n",
       "      <th>0</th>\n",
       "      <td>7.424290e+18</td>\n",
       "      <td>https://www.tiktok.com/@sundarindah/video/7424130682529516805</td>\n",
       "      <td>sayangnya orang-orang terdekat yang justru membuat mental kita sakit dan lelah</td>\n",
       "      <td>0</td>\n",
       "    </tr>\n",
       "    <tr>\n",
       "      <th>1</th>\n",
       "      <td>7.424297e+18</td>\n",
       "      <td>https://www.tiktok.com/@sundarindah/video/7424130682529516805</td>\n",
       "      <td>justru malah org trdekat yg menghancurkan mental ku, aku tdk prcya siapapun, caraku mengatasi ini semua dgn meditasi agar lbih tenang</td>\n",
       "      <td>0</td>\n",
       "    </tr>\n",
       "    <tr>\n",
       "      <th>2</th>\n",
       "      <td>7.467563e+18</td>\n",
       "      <td>https://www.tiktok.com/@sundarindah/video/7424130682529516805</td>\n",
       "      <td>halo ka indah sundari</td>\n",
       "      <td>0</td>\n",
       "    </tr>\n",
       "    <tr>\n",
       "      <th>3</th>\n",
       "      <td>7.424316e+18</td>\n",
       "      <td>https://www.tiktok.com/@sundarindah/video/7424130682529516805</td>\n",
       "      <td>justru orang terdekat malah jadi penyebabnya</td>\n",
       "      <td>0</td>\n",
       "    </tr>\n",
       "    <tr>\n",
       "      <th>4</th>\n",
       "      <td>7.455553e+18</td>\n",
       "      <td>https://www.tiktok.com/@sundarindah/video/7424130682529516805</td>\n",
       "      <td>ka tolong aku</td>\n",
       "      <td>0</td>\n",
       "    </tr>\n",
       "  </tbody>\n",
       "</table>\n",
       "</div>"
      ],
      "text/plain": [
       "            cid  \\\n",
       "0  7.424290e+18   \n",
       "1  7.424297e+18   \n",
       "2  7.467563e+18   \n",
       "3  7.424316e+18   \n",
       "4  7.455553e+18   \n",
       "\n",
       "                                               submittedVideoUrl  \\\n",
       "0  https://www.tiktok.com/@sundarindah/video/7424130682529516805   \n",
       "1  https://www.tiktok.com/@sundarindah/video/7424130682529516805   \n",
       "2  https://www.tiktok.com/@sundarindah/video/7424130682529516805   \n",
       "3  https://www.tiktok.com/@sundarindah/video/7424130682529516805   \n",
       "4  https://www.tiktok.com/@sundarindah/video/7424130682529516805   \n",
       "\n",
       "                                                                                                                                    text  \\\n",
       "0                                                         sayangnya orang-orang terdekat yang justru membuat mental kita sakit dan lelah   \n",
       "1  justru malah org trdekat yg menghancurkan mental ku, aku tdk prcya siapapun, caraku mengatasi ini semua dgn meditasi agar lbih tenang   \n",
       "2                                                                                                                  halo ka indah sundari   \n",
       "3                                                                                           justru orang terdekat malah jadi penyebabnya   \n",
       "4                                                                                                                          ka tolong aku   \n",
       "\n",
       "   label  \n",
       "0      0  \n",
       "1      0  \n",
       "2      0  \n",
       "3      0  \n",
       "4      0  "
      ]
     },
     "execution_count": 7,
     "metadata": {},
     "output_type": "execute_result"
    }
   ],
   "source": [
    "def label_awareness(text):\n",
    "    text_lower = str(text).lower()\n",
    "    if any(phrase in text_lower for phrase in aware_keywords):\n",
    "        return 1  # Aware\n",
    "    elif any(phrase in text_lower for phrase in not_aware_keywords):\n",
    "        return 0  # Not Aware\n",
    "    else:\n",
    "        return 0  # Default to not aware if unclear"
   ]
  },
  {
   "cell_type": "code",
   "execution_count": 8,
   "metadata": {},
   "outputs": [
    {
     "data": {
      "text/plain": [
       "label\n",
       "0    13054\n",
       "1      967\n",
       "Name: count, dtype: int64"
      ]
     },
     "execution_count": 8,
     "metadata": {},
     "output_type": "execute_result"
    }
   ],
   "source": [
    "df.value_counts('label')"
   ]
  },
  {
   "cell_type": "code",
   "execution_count": null,
   "metadata": {},
   "outputs": [],
   "source": [
    "df.to_csv('cleaned_labeled_dataset.csv', index=False)"
   ]
  }
 ],
 "metadata": {
  "kernelspec": {
   "display_name": "Python 3",
   "language": "python",
   "name": "python3"
  },
  "language_info": {
   "codemirror_mode": {
    "name": "ipython",
    "version": 3
   },
   "file_extension": ".py",
   "mimetype": "text/x-python",
   "name": "python",
   "nbconvert_exporter": "python",
   "pygments_lexer": "ipython3",
   "version": "3.12.0"
  }
 },
 "nbformat": 4,
 "nbformat_minor": 2
}
