{
 "cells": [
  {
   "cell_type": "code",
   "execution_count": 1,
   "metadata": {},
   "outputs": [],
   "source": [
    "import pandas as pd\n",
    "import numpy as np\n",
    "import re\n",
    "import matplotlib.pyplot as plt\n",
    "import time\n",
    "from datetime import datetime"
   ]
  },
  {
   "cell_type": "code",
   "execution_count": 2,
   "metadata": {},
   "outputs": [
    {
     "name": "stdout",
     "output_type": "stream",
     "text": [
      "Mulai proses pelabelan pada: 2025-05-12 03:47:51\n"
     ]
    }
   ],
   "source": [
    "# Catat waktu mulai\n",
    "start_time = time.time()\n",
    "print(f\"Mulai proses pelabelan pada: {datetime.now().strftime('%Y-%m-%d %H:%M:%S')}\")"
   ]
  },
  {
   "cell_type": "code",
   "execution_count": 3,
   "metadata": {},
   "outputs": [
    {
     "name": "stdout",
     "output_type": "stream",
     "text": [
      "Membaca dataset...\n",
      "Jumlah data: 14021\n"
     ]
    }
   ],
   "source": [
    "# 1. Baca dataset\n",
    "print(\"Membaca dataset...\")\n",
    "df = pd.read_csv('translated_dataset.csv', encoding='utf-8')\n",
    "print(f\"Jumlah data: {len(df)}\")"
   ]
  },
  {
   "cell_type": "code",
   "execution_count": 4,
   "metadata": {},
   "outputs": [],
   "source": [
    "# 2. Definisikan lexicon dan kata kunci terkait kesehatan mental\n",
    "\n",
    "# 2.1 Kata/frasa positif terkait kesadaran kesehatan mental\n",
    "positive_lexicon = [\n",
    "    # Kata positif terkait kesadaran kesehatan mental\n",
    "    'sadar', 'aware', 'kesadaran', 'penting', 'perhatikan', 'jaga', 'rawat', 'peduli', \n",
    "    'lindungi', 'bantuan', 'dukung', 'support', 'mengerti', 'pahami', 'sembuh', 'pulih', \n",
    "    'penyembuhan', 'healing', 'sehat', 'baik', 'positif', 'tenang', 'menenangkan', \n",
    "    'seimbang', 'balance', 'harmoni', 'self care', 'merawat diri', 'self love', \n",
    "    'cinta diri', 'menerima', 'acceptance', 'berkembang', 'tumbuh', 'mindfulness', \n",
    "    'bersyukur', 'grateful', 'terapi', 'konseling', 'psikolog', 'psikiater', \n",
    "    'treatment', 'perawatan', 'pengobatan', 'solusi', 'jalan keluar', 'harapan',\n",
    "    'motivasi', 'inspirasi', 'semangat', 'kuat', 'tangguh', 'resilient', 'resilien',\n",
    "    'meditasi', 'yoga', 'relaksasi', 'istirahat', 'rehat', 'coping', 'adaptasi',\n",
    "    'hidup sehat', 'manajemen stres', 'stress management', 'berbagi', 'cerita',\n",
    "    'curhat', 'berbicara', 'diskusi', 'mendengarkan', 'empati', 'perhatian',\n",
    "    # Tambahan kata positif\n",
    "    'harmoni', 'damai', 'keseimbangan', 'ketenangan', 'ketabahan', 'keberanian',\n",
    "    'kekuatan', 'potensi', 'fokus', 'konsentrasi', 'kontrol', 'kelola', 'atur',\n",
    "    'kemampuan', 'kapasitas', 'batas', 'batasan', 'penerimaan', 'memaafkan', 'memaklumi',\n",
    "    'memahami', 'membantu', 'mendukung', 'mendampingi', 'menyemangati', 'mengajak',\n",
    "    'mengajarkan', 'menghargai', 'menghormati', 'menyayangi', 'mencintai'\n",
    "]\n",
    "\n",
    "# 2.2 Kata/frasa negatif terkait masalah kesehatan mental\n",
    "negative_lexicon = [\n",
    "    # Kata negatif terkait masalah kesehatan mental\n",
    "    'stress', 'stres', 'depresi', 'cemas', 'anxiety', 'kecemasan', 'panik', 'trauma', \n",
    "    'traumatis', 'bunuh diri', 'suicide', 'putus asa', 'hopeless', 'lelah', 'burnout', \n",
    "    'kelelahan', 'sakit', 'gangguan', 'disorder', 'masalah', 'buruk', 'negatif', \n",
    "    'sedih', 'kecewa', 'marah', 'frustasi', 'frustrasi', 'takut', 'khawatir', 'gelisah',\n",
    "    'tertekan', 'pressure', 'overthinking', 'terlalu mikir', 'pikiran negatif', \n",
    "    'insomnia', 'susah tidur', 'sulit tidur', 'nightmare', 'mimpi buruk', 'menyerah',\n",
    "    'give up', 'menyendiri', 'isolasi', 'isolate', 'sendirian', 'kesepian', 'lonely',\n",
    "    'loneliness', 'self harm', 'menyakiti diri', 'cutting', 'bipolar', 'manic', 'mania',\n",
    "    'paranoid', 'paranoia', 'delusi', 'halusinasi', 'psychosis', 'psikosis',\n",
    "    'schizophrenia', 'skizofrenia', 'ocd', 'obsesif', 'kompulsif', 'adhd', 'add',\n",
    "    'impulsif', 'mood swing', 'perubahan mood', 'down', 'low', 'trigger', 'triggered',\n",
    "    'ptsd', 'toxic', 'beracun', 'overthinking', 'insecure', 'tidak percaya diri',\n",
    "    'rendah diri', 'low esteem', 'penyintas', 'korban', 'victim', 'survivor',\n",
    "    'pelecehan', 'abuse', 'kekerasan', 'violence', 'bully', 'bullying', 'perundungan',\n",
    "    'stigma', 'diskriminasi', 'labeling',\n",
    "    # Tambahan kata negatif\n",
    "    'jenuh', 'bosan', 'muak', 'jengkel', 'kesal', 'geram', 'murka', 'dendam',\n",
    "    'benci', 'dengki', 'iri', 'cemburu', 'minder', 'curiga', 'paranoid', 'ragu',\n",
    "    'bimbang', 'galau', 'gundah', 'resah', 'risau', 'merana', 'nestapa', 'duka',\n",
    "    'pilu', 'lara', 'sakit hati', 'sakit jiwa', 'gangguan jiwa', 'gangguan pikiran',\n",
    "    'gangguan mental', 'gangguan psikologis', 'gangguan psikis', 'gangguan batin'\n",
    "]\n",
    "\n",
    "# 2.3 Istilah umum terkait kesehatan mental\n",
    "mental_health_terms = [\n",
    "    # Istilah kesehatan mental umum\n",
    "    'mental', 'kesehatan mental', 'mental health', 'wellbeing', 'kesejahteraan', \n",
    "    'pikiran', 'mind', 'otak', 'brain', 'psikologi', 'psychology', 'psikologis', \n",
    "    'psychological', 'psychiatry', 'psikiatri', 'psikiater', 'psychiatrist', \n",
    "    'psikolog', 'psychologist', 'terapi', 'therapy', 'therapeutic', 'terapeutik',\n",
    "    'konseling', 'counseling', 'konselor', 'counselor', 'meditasi', 'meditation',\n",
    "    'mindfulness', 'relaksasi', 'relaxation', 'napas', 'breathing', 'pernapasan',\n",
    "    'emosi', 'emotion', 'emotional', 'emosional', 'perasaan', 'feeling', 'mood', \n",
    "    'affect', 'afek', 'kognitif', 'cognitive', 'kognisi', 'cognition', 'behavior',\n",
    "    'perilaku', 'tingkah laku', 'cbt', 'dbt', 'act', 'psikoterapi', 'psychotherapy',\n",
    "    'diagnosis', 'diagnosa', 'dsm', 'ppdgj', 'icd', 'gangguan', 'disorder', 'condition',\n",
    "    'kondisi', 'psychiatry', 'psikiatri', 'medikasi', 'medication', 'obat', 'medicine',\n",
    "    'pil', 'pill', 'ssri', 'snri', 'antidepresan', 'antidepressant', 'antipsikotik',\n",
    "    'antipsychotic', 'stabilizer', 'stabilisator', 'neurotransmitter', 'serotonin',\n",
    "    'dopamin', 'dopamine', 'norepinefrin', 'norepinephrine', 'neuron', 'synapse',\n",
    "    'sinapsis', 'manic', 'manik', 'mania', 'hypomania', 'hipomania', 'dysphoria',\n",
    "    'disforia', 'dysthymia', 'distimia', 'delusi', 'delusion', 'halusinasi',\n",
    "    'hallucination', 'trauma', 'ptsd', 'cptsd', 'trigger', 'pemicu'\n",
    "]\n",
    "\n",
    "# 2.4 Istilah khusus Generasi Z terkait kesehatan mental\n",
    "gen_z_terms = [\n",
    "    'toxic', 'red flag', 'green flag', 'gaslighting', 'trauma dumping', \n",
    "    'triggered', 'trigger warning', 'tw', 'cw', 'content warning',\n",
    "    'ghosting', 'breadcrumbing', 'situationship', 'fomo', 'main character energy',\n",
    "    'cope', 'coping', 'self-care era', 'healing era', 'mental health check',\n",
    "    'therapy tiktok', 'that girl', 'manifestasi', 'affirmations', 'journaling',\n",
    "    'dopamine detox', 'doom scrolling', 'burnout', 'emotional damage',\n",
    "    'emotional support', 'vibes', 'energy vampire', 'trauma bond',\n",
    "    'healing journey', 'shadow work', 'icks', 'boundaries', 'validation',\n",
    "    'gaslight gatekeep girlboss', 'stan culture', 'comfort character',\n",
    "    'adulting', 'relateable', 'felt', 'therapy', 'medikasi'\n",
    "]\n",
    "\n",
    "# 2.5 Kontekstual kata yang lebih luas\n",
    "contextual_mental_terms = [\n",
    "    # Kata umum terkait perasaan/pikiran\n",
    "    'perasaan', 'pikiran', 'rasa', 'batin', 'jiwa', 'diri', 'pribadi', 'hati',\n",
    "    'semangat', 'motivasi', 'mood', 'energi', 'tenaga', 'lelah', 'capek',\n",
    "    \n",
    "    # Kata terkait stres sehari-hari\n",
    "    'beban', 'tekanan', 'tugas', 'kuliah', 'kerja', 'pekerjaan', 'deadline',\n",
    "    'tuntutan', 'ekspektasi', 'harapan', 'kecewa', 'gagal', 'sukses',\n",
    "    \n",
    "    # Kata terkait relasi sosial yang bisa memengaruhi kesehatan mental\n",
    "    'teman', 'sahabat', 'pacar', 'keluarga', 'orang tua', 'hubungan',\n",
    "    'konflik', 'bertengkar', 'toxic', 'support system', 'dukungan',\n",
    "    \n",
    "    # Kata terkait coping/mengatasi masalah\n",
    "    'mengatasi', 'menghadapi', 'solusi', 'cara', 'tips', 'advice', 'saran',\n",
    "    'bantuan', 'tolong', 'membantu', 'mendengarkan', 'curhat', 'berbagi',\n",
    "    \n",
    "    # Kata terkait self-improvement\n",
    "    'berkembang', 'tumbuh', 'belajar', 'improve', 'lebih baik', 'perbaikan',\n",
    "    'refleksi', 'introspeksi', 'evaluasi', 'journaling', 'meditasi'\n",
    "]"
   ]
  },
  {
   "cell_type": "code",
   "execution_count": 5,
   "metadata": {},
   "outputs": [],
   "source": [
    "# Tambahkan istilah Gen Z dan kontekstual ke istilah kesehatan mental\n",
    "mental_health_terms.extend(gen_z_terms)\n",
    "mental_health_terms.extend(contextual_mental_terms)"
   ]
  },
  {
   "cell_type": "code",
   "execution_count": 6,
   "metadata": {},
   "outputs": [],
   "source": [
    "# 2.6 Hashtag terkait kesehatan mental yang sering digunakan di TikTok\n",
    "mental_health_hashtags = [\n",
    "    '#mentalhealth', '#mentalhealthawareness', '#kesehatan', '#kesehatanmental', \n",
    "    '#mentalhealthmatters', '#selflove', '#selfcare', '#healing', '#wellness',\n",
    "    '#anxiety', '#depression', '#depresi', '#trauma', '#mentalhealthtiktok', \n",
    "    '#mentalhealthcheck', '#cemas', '#overthinking', '#therapy', '#terapi',\n",
    "    '#kesehatan', '#kesejahteraan', '#mindfulness', '#mentalillness', \n",
    "    '#mentalhealthsupport', '#psychology', '#psikologi', '#wellbeing', \n",
    "    '#healingjourney', '#mentalhealthjourney', '#endthestigma',\n",
    "    # Tambahan hashtag\n",
    "    '#selfimprovement', '#selfdevelopment', '#personalgrowth', '#motivation',\n",
    "    '#positivevibes', '#positivemindset', '#goodvibes', '#relaxation',\n",
    "    '#meditation', '#breathwork', '#stressrelief', '#emotionalhealth',\n",
    "    '#emotionalwellness', '#emotionalintelligence', '#emotionalregulation',\n",
    "    '#emotionalsupport', '#emotionalhealing', '#emotionalrecovery',\n",
    "    '#selfawareness', '#selfcompassion', '#selfacceptance', '#selfreflection'\n",
    "]\n",
    "\n",
    "# 2.7 Frasa kuat yang sangat mengindikasikan kesadaran kesehatan mental\n",
    "strong_awareness_indicators = [\n",
    "    'jaga kesehatan mental', 'merawat kesehatan mental', 'kesehatan mental penting',\n",
    "    'mental health awareness', 'awareness', 'peduli kesehatan mental', 'sadar kesehatan mental',\n",
    "    'kesadaran mental', 'terapi mental', 'konseling mental', 'psikolog', 'psikiater',\n",
    "    'mencari bantuan', 'seek help', 'bantuan profesional', 'professional help',\n",
    "    'self care', 'self love', 'mengurus diri', 'merawat diri', 'me time',\n",
    "    'jangan malu', 'tidak perlu malu', 'no shame', 'no stigma', 'hindari stigma',\n",
    "    'mental health first', 'mental health matters', 'kesehatan mental adalah prioritas',\n",
    "    'lindungi pikiran', 'protect your mind', 'kesehatan mental adalah kesehatan'\n",
    "]\n",
    "\n",
    "# 2.8 Frasa-frasa terkait kesehatan mental\n",
    "mental_health_phrases = [\n",
    "    'jangan lupa bahagia', 'remember to smile', 'cinta diri sendiri',\n",
    "    'kamu tidak sendirian', 'you are not alone', 'minta bantuan',\n",
    "    'bicara dengan profesional', 'talk to someone', 'curhat', 'sharing is caring',\n",
    "    'break the stigma', 'it\\'s okay not to be okay', 'tidak apa-apa untuk tidak baik-baik saja',\n",
    "    'take care of your mental health', 'jaga kesehatan mentalmu',\n",
    "    'mental health check', 'cek kesehatan mental', 'prioritaskan dirimu',\n",
    "    'prioritize yourself', 'self care day', 'your feelings are valid',\n",
    "    'perasaanmu valid', 'you matter', 'kamu berharga'\n",
    "]"
   ]
  },
  {
   "cell_type": "code",
   "execution_count": 8,
   "metadata": {},
   "outputs": [
    {
     "name": "stdout",
     "output_type": "stream",
     "text": [
      "Mempersiapkan teks untuk pelabelan...\n"
     ]
    }
   ],
   "source": [
    "# 3. Gabungkan teks asli dan ternormalisasi untuk pelabelan\n",
    "print(\"Mempersiapkan teks untuk pelabelan...\")\n",
    "\n",
    "def combine_text_for_labeling(row):\n",
    "    \"\"\"Gabungkan teks asli dan ternormalisasi untuk pelabelan\"\"\"\n",
    "    original = str(row['text']).lower() if isinstance(row['text'], str) else ''\n",
    "    # normalized = str(row['normalized_text']).lower() if isinstance(row['normalized_text'], str) else ''\n",
    "    # return f\"{original} {normalized}\"\n",
    "    return original\n",
    "\n",
    "df['combined_text'] = df.apply(combine_text_for_labeling, axis=1)"
   ]
  },
  {
   "cell_type": "code",
   "execution_count": null,
   "metadata": {},
   "outputs": [],
   "source": [
    "# 4. Fungsi untuk melabeli teks berdasarkan sentimen dan kata kunci dengan kriteria yang lebih longgar\n",
    "def label_by_sentiment_and_keywords_relaxed(text):\n",
    "    \"\"\"\n",
    "    Versi yang lebih longgar untuk pelabelan \"Aware\"\n",
    "    \"\"\"\n",
    "    if not isinstance(text, str) or len(text.strip()) == 0:\n",
    "        return 0\n",
    "    \n",
    "    text = text.lower()\n",
    "    \n",
    "    # 4.1 Cek indikator kuat kesadaran kesehatan mental\n",
    "    if any(indicator in text for indicator in strong_awareness_indicators):\n",
    "        return 1\n",
    "    \n",
    "    # 4.2 Cek hashtag terkait kesehatan mental\n",
    "    if any(hashtag in text for hashtag in mental_health_hashtags):\n",
    "        return 1\n",
    "    \n",
    "    # 4.3 Cek frasa terkait kesehatan mental\n",
    "    if any(phrase in text for phrase in mental_health_phrases):\n",
    "        return 1\n",
    "    \n",
    "    # 4.4 PERUBAHAN: Cukup 1 istilah kesehatan mental saja\n",
    "    if any(term in text for term in mental_health_terms):\n",
    "        return 1\n",
    "    \n",
    "    # 4.5 Cek kombinasi kata emosional dengan kata kontekstual\n",
    "    emotional_words = ['senang', 'sedih', 'marah', 'takut', 'cemas', 'khawatir', 'bahagia',\n",
    "                      'frustasi', 'kecewa', 'puas', 'menyesal', 'bosan', 'lelah', 'capek',\n",
    "                      'stres', 'stress', 'overthinking', 'mikir', 'pikir', 'rasa', 'merasa']\n",
    "    \n",
    "    if any(word in text for word in emotional_words):\n",
    "        # Jika teks mengandung kata emosional DAN\n",
    "        # mengandung kata dari positive_lexicon ATAU negative_lexicon\n",
    "        if any(word in text for word in positive_lexicon) or any(word in text for word in negative_lexicon):\n",
    "            return 1\n",
    "    \n",
    "    # 4.6 Cek kata-kata terkait kesehatan fisik yang bisa berhubungan dengan mental\n",
    "    health_related_words = ['sehat', 'sakit', 'penyakit', 'pusing', 'sakit kepala', \n",
    "                           'migrain', 'tidur', 'insomnia', 'makan', 'nafsu makan',\n",
    "                           'nutrisi', 'vitamin', 'suplemen', 'olahraga', 'exercise']\n",
    "    mental_related_words = ['pikiran', 'mental', 'psikologis', 'emosi', 'perasaan', \n",
    "                           'mood', 'stres', 'cemas', 'takut', 'sedih', 'marah']\n",
    "    \n",
    "    if any(word in text for word in health_related_words) and any(word in text for word in mental_related_words):\n",
    "        return 1\n",
    "    \n",
    "    # 4.7 PERUBAHAN: Jika teks menunjukkan refleksi/introspeksi diri\n",
    "    reflection_words = ['refleksi', 'introspeksi', 'evaluasi', 'mengevaluasi', 'merenung',\n",
    "                       'merenungkan', 'memikirkan', 'contemplating', 'berpikir tentang',\n",
    "                       'berkaca', 'bercermin', 'melihat diri', 'memahami diri']\n",
    "    \n",
    "    if any(word in text for word in reflection_words):\n",
    "        return 1\n",
    "    \n",
    "    # Default: tidak aware\n",
    "    return 0"
   ]
  },
  {
   "cell_type": "code",
   "execution_count": 10,
   "metadata": {},
   "outputs": [
    {
     "name": "stdout",
     "output_type": "stream",
     "text": [
      "Melabeli dataset dengan kriteria yang lebih longgar...\n"
     ]
    }
   ],
   "source": [
    "# 5. Terapkan fungsi pelabelan yang lebih longgar\n",
    "print(\"Melabeli dataset dengan kriteria yang lebih longgar...\")\n",
    "df['label'] = df['combined_text'].apply(label_by_sentiment_and_keywords_relaxed)"
   ]
  },
  {
   "cell_type": "code",
   "execution_count": 11,
   "metadata": {},
   "outputs": [
    {
     "name": "stdout",
     "output_type": "stream",
     "text": [
      "\n",
      "Analisis hasil pelabelan:\n",
      "Jumlah teks 'Aware': 6123 (43.67%)\n",
      "Jumlah teks 'Tidak Aware': 7898 (56.33%)\n"
     ]
    }
   ],
   "source": [
    "# 6. Analisis hasil pelabelan\n",
    "print(\"\\nAnalisis hasil pelabelan:\")\n",
    "label_counts = df['label'].value_counts()\n",
    "aware_count = label_counts.get(1.0, 0.0)\n",
    "not_aware_count = label_counts.get(0.0, 0.0)\n",
    "aware_percentage = (aware_count / len(df)) * 100\n",
    "not_aware_percentage = (not_aware_count / len(df)) * 100\n",
    "\n",
    "print(f\"Jumlah teks 'Aware': {aware_count} ({aware_percentage:.2f}%)\")\n",
    "print(f\"Jumlah teks 'Tidak Aware': {not_aware_count} ({not_aware_percentage:.2f}%)\")"
   ]
  },
  {
   "cell_type": "code",
   "execution_count": 12,
   "metadata": {},
   "outputs": [
    {
     "name": "stdout",
     "output_type": "stream",
     "text": [
      "\n",
      "Contoh hasil pelabelan:\n",
      "\n",
      "1. Teks: gw semua apalagi keringat pas nulis di skolah aja basah baju padahal ngk gerak\n",
      "   Label: Tidak Aware\n",
      "\n",
      "2. Teks: di posisi ini berbulan2 tapi sadar ini bermula dari diri sendiri)\n",
      "   Label: Aware\n",
      "\n",
      "3. Teks: kok gw semua\n",
      "   Label: Tidak Aware\n",
      "\n",
      "4. Teks: bukan sembuh, hanya waktu yg membuat nya terbiasa.\n",
      "   Label: Tidak Aware\n",
      "\n",
      "5. Teks: sama2\n",
      "   Label: Tidak Aware\n",
      "\n",
      "6. Teks: kadang\" sih\n",
      "   Label: Tidak Aware\n",
      "\n",
      "7. Teks: ternyata ini\n",
      "   Label: Tidak Aware\n",
      "\n",
      "8. Teks: keringat berlebihan itu trnyata gejala nya,suami sllu berkeringat apalagi ketemu org dn di tempat ra...\n",
      "   Label: Tidak Aware\n",
      "\n",
      "9. Teks: bjir semua nya kecuali eating disorder\n",
      "   Label: Aware\n",
      "\n",
      "10. Teks: yg semua kumpul sini\n",
      "   Label: Tidak Aware\n"
     ]
    }
   ],
   "source": [
    "# 7. Cek beberapa contoh hasil pelabelan secara acak\n",
    "print(\"\\nContoh hasil pelabelan:\")\n",
    "np.random.seed(42)  # Untuk hasil yang konsisten\n",
    "sample_indices = np.random.choice(len(df), min(10, len(df)), replace=False)\n",
    "\n",
    "for i, idx in enumerate(sample_indices):\n",
    "    text = df['text'].iloc[idx]\n",
    "    if len(text) > 100:\n",
    "        text = text[:100] + \"...\"\n",
    "    \n",
    "    label = \"Aware\" if df['label'].iloc[idx] == 1 else \"Tidak Aware\"\n",
    "    print(f\"\\n{i+1}. Teks: {text}\")\n",
    "    print(f\"   Label: {label}\")"
   ]
  },
  {
   "cell_type": "code",
   "execution_count": 14,
   "metadata": {},
   "outputs": [
    {
     "data": {
      "image/png": "[encoded data removed]",
      "text/plain": [
       "<Figure size 800x600 with 1 Axes>"
      ]
     },
     "metadata": {},
     "output_type": "display_data"
    }
   ],
   "source": [
    "# 8. Visualisasi distribusi label\n",
    "plt.figure(figsize=(8, 6))\n",
    "plt.bar(['Tidak Aware', 'Aware'], [not_aware_count, aware_count], color=['#ff9999', '#66b3ff'])\n",
    "plt.xlabel('Label')\n",
    "plt.ylabel('Jumlah Teks')\n",
    "plt.title('Distribusi Label Kesadaran Kesehatan Mental')\n",
    "for i, count in enumerate([not_aware_count, aware_count]):\n",
    "    percentage = count / len(df) * 100\n",
    "    plt.text(i, count + len(df)*0.01, f'{count}\\n({percentage:.1f}%)', \n",
    "             ha='center', va='bottom', fontweight='bold')\n",
    "\n",
    "# Simpan grafik\n",
    "# plt.tight_layout()\n",
    "# # plt.savefig('label_distribution_relaxed.png')\n",
    "# plt.close()"
   ]
  },
  {
   "cell_type": "code",
   "execution_count": 15,
   "metadata": {},
   "outputs": [
    {
     "name": "stdout",
     "output_type": "stream",
     "text": [
      "\n",
      "Dataset berlabel telah disimpan ke: indonesian_texts_labeled.csv\n"
     ]
    }
   ],
   "source": [
    "# 9. Simpan dataset dengan label\n",
    "output_filename = 'indonesian_texts_labeled.csv'\n",
    "df.to_csv(output_filename, index=False)\n",
    "print(f\"\\nDataset berlabel telah disimpan ke: {output_filename}\")"
   ]
  },
  {
   "cell_type": "code",
   "execution_count": null,
   "metadata": {},
   "outputs": [],
   "source": [
    "# 10. Buat dataframe yang hanya berisi informasi penting\n",
    "df_labeled = df[['cid', 'text', 'normalized_text', 'label']]\n",
    "df_labeled.to_csv('dataset_labeled_relaxed_simplified.csv', index=False)\n",
    "print(\"Dataset berlabel (versi sederhana) telah disimpan ke: dataset_labeled_relaxed_simplified.csv\")"
   ]
  },
  {
   "cell_type": "code",
   "execution_count": 16,
   "metadata": {},
   "outputs": [
    {
     "name": "stdout",
     "output_type": "stream",
     "text": [
      "Subset validasi (100 sampel) telah disimpan ke: validation_subset_relaxed.csv\n"
     ]
    }
   ],
   "source": [
    "# 11. Membuat subset validasi untuk pengecekan manual (opsional)\n",
    "validation_size = min(100, len(df))\n",
    "validation_indices = np.random.choice(len(df), validation_size, replace=False)\n",
    "df_validation = df.iloc[validation_indices].copy()\n",
    "df_validation['manual_check'] = \"\"  # Kolom untuk validasi manual\n",
    "df_validation.to_csv('validation_subset_relaxed.csv', index=False)\n",
    "print(f\"Subset validasi ({validation_size} sampel) telah disimpan ke: validation_subset_relaxed.csv\")"
   ]
  },
  {
   "cell_type": "code",
   "execution_count": 17,
   "metadata": {},
   "outputs": [
    {
     "name": "stdout",
     "output_type": "stream",
     "text": [
      "\n",
      "Proses pelabelan selesai dalam 232.72 detik\n",
      "Selesai pada: 2025-05-12 03:51:43\n"
     ]
    }
   ],
   "source": [
    "# 12. Analisis waktu eksekusi\n",
    "end_time = time.time()\n",
    "execution_time = end_time - start_time\n",
    "print(f\"\\nProses pelabelan selesai dalam {execution_time:.2f} detik\")\n",
    "print(f\"Selesai pada: {datetime.now().strftime('%Y-%m-%d %H:%M:%S')}\")"
   ]
  },
  {
   "cell_type": "code",
   "execution_count": 19,
   "metadata": {},
   "outputs": [
    {
     "name": "stdout",
     "output_type": "stream",
     "text": [
      "\n",
      "Analisis kata kunci yang sering memicu label 'Aware':\n",
      "\n",
      "Top 15 kata kunci dalam teks 'Aware':\n",
      "- 'rasa': 208 kali (20.8%)\n",
      "- 'iri': 191 kali (19.1%)\n",
      "- 'diri': 165 kali (16.5%)\n",
      "- 'mental': 142 kali (14.2%)\n",
      "- 'psikolog': 84 kali (8.4%)\n",
      "- 'cara': 81 kali (8.1%)\n",
      "- 'takut': 65 kali (6.5%)\n",
      "- 'sakit': 63 kali (6.3%)\n",
      "- 'baik': 56 kali (5.6%)\n",
      "- 'anxiety': 55 kali (5.5%)\n",
      "- 'obat': 53 kali (5.3%)\n",
      "- 'emosi': 47 kali (4.7%)\n",
      "- 'psikiater': 45 kali (4.5%)\n",
      "- 'masalah': 38 kali (3.8%)\n",
      "- 'cerita': 38 kali (3.8%)\n",
      "\n",
      "Proses pelabelan selesai!\n"
     ]
    },
    {
     "data": {
      "image/png": "[encoded data removed]",
      "text/plain": [
       "<Figure size 1200x600 with 1 Axes>"
      ]
     },
     "metadata": {},
     "output_type": "display_data"
    }
   ],
   "source": [
    "# 13. Analisis kata-kata kunci yang paling sering memicu label \"Aware\"\n",
    "if aware_count > 0:\n",
    "    print(\"\\nAnalisis kata kunci yang sering memicu label 'Aware':\")\n",
    "    \n",
    "    # Hanya analisis untuk subset dari data 'Aware' untuk efisiensi\n",
    "    aware_texts = df[df['label'] == 1]['combined_text']\n",
    "    sample_size = min(1000, len(aware_texts))\n",
    "    if sample_size > 0:\n",
    "        aware_sample = aware_texts.sample(sample_size, random_state=42)\n",
    "        \n",
    "        # Hitung kemunculan kata kunci\n",
    "        term_count = {}\n",
    "        \n",
    "        # Periksa semua kategori kata kunci\n",
    "        all_keywords = set(mental_health_terms + list(positive_lexicon) + list(negative_lexicon) + \n",
    "                        strong_awareness_indicators + mental_health_phrases)\n",
    "        \n",
    "        for term in all_keywords:\n",
    "            term_count[term] = sum(1 for text in aware_sample if term in text.lower())\n",
    "        \n",
    "        # Ambil 15 kata kunci yang paling sering muncul\n",
    "        top_terms = sorted([(term, count) for term, count in term_count.items() if count > 0], \n",
    "                            key=lambda x: x[1], reverse=True)[:15]\n",
    "        \n",
    "        if top_terms:\n",
    "            print(\"\\nTop 15 kata kunci dalam teks 'Aware':\")\n",
    "            for term, count in top_terms:\n",
    "                percentage = (count / sample_size) * 100\n",
    "                print(f\"- '{term}': {count} kali ({percentage:.1f}%)\")\n",
    "            \n",
    "            # Visualisasi kata kunci teratas\n",
    "            plt.figure(figsize=(12, 6))\n",
    "            terms = [term for term, _ in top_terms]\n",
    "            counts = [count for _, count in top_terms]\n",
    "            \n",
    "            plt.barh(terms, counts, color='skyblue')\n",
    "            plt.xlabel('Jumlah Kemunculan')\n",
    "            plt.title('Kata Kunci yang Paling Sering Memicu Label \"Aware\"')\n",
    "            # plt.tight_layout()\n",
    "            # plt.savefig('top_keywords_relaxed.png')\n",
    "            # plt.close()\n",
    "        else:\n",
    "            print(\"Tidak ditemukan kata kunci yang signifikan.\")\n",
    "\n",
    "print(\"\\nProses pelabelan selesai!\")"
   ]
  }
 ],
 "metadata": {
  "kernelspec": {
   "display_name": "Python 3",
   "language": "python",
   "name": "python3"
  },
  "language_info": {
   "codemirror_mode": {
    "name": "ipython",
    "version": 3
   },
   "file_extension": ".py",
   "mimetype": "text/x-python",
   "name": "python",
   "nbconvert_exporter": "python",
   "pygments_lexer": "ipython3",
   "version": "3.12.0"
  }
 },
 "nbformat": 4,
 "nbformat_minor": 2
}
