{
 "cells": [
  {
   "cell_type": "code",
   "execution_count": null,
   "id": "825c33ba",
   "metadata": {},
   "outputs": [],
   "source": [
    "# Step 1: Install Required Packages (run this in your terminal or notebook)\n",
    "# !pip install bertopic[all] transformers torch tqdm\n",
    "\n",
    "# Step 2: Import Libraries\n",
    "from transformers import AutoTokenizer, AutoModel\n",
    "from bertopic import BERTopic\n",
    "import torch\n",
    "import numpy as np\n",
    "import pandas as pd\n",
    "from tqdm import tqdm\n",
    "import re"
   ]
  },
  {
   "cell_type": "code",
   "execution_count": null,
   "id": "8380331a",
   "metadata": {},
   "outputs": [],
   "source": [
    "# Step 3: Load Pretrained Indonesian BERT\n",
    "model_name = \"cahya/bert-base-indonesian-522M\"\n",
    "tokenizer = AutoTokenizer.from_pretrained(model_name)\n",
    "bert_model = AutoModel.from_pretrained(model_name)\n",
    "bert_model.eval()  # set to eval mode"
   ]
  },
  {
   "cell_type": "code",
   "execution_count": null,
   "id": "2c66f060",
   "metadata": {},
   "outputs": [],
   "source": [
    "# Step 4: Text Preprocessing Function (simple version)\n",
    "def preprocess_text(text):\n",
    "    text = text.lower()\n",
    "    text = re.sub(r\"http\\S+|@\\S+|#[A-Za-z0-9_]+\", \"\", text)  # remove links, mentions, hashtags\n",
    "    text = re.sub(r\"[^a-zA-Z0-9\\s]\", \"\", text)  # remove punctuation\n",
    "    return text.strip()"
   ]
  },
  {
   "cell_type": "code",
   "execution_count": null,
   "id": "b04e493b",
   "metadata": {},
   "outputs": [],
   "source": [
    "# Step 5: Load Your Data\n",
    "df = pd.read_csv(\"./data/indonesian_texts_labeled_relaxed.csv\")\n",
    "df.head()"
   ]
  },
  {
   "cell_type": "code",
   "execution_count": null,
   "id": "3b88f2ed",
   "metadata": {},
   "outputs": [],
   "source": [
    "# Clean text\n",
    "docs = df[\"normalized_text\"].astype(str).apply(preprocess_text).tolist()\n"
   ]
  },
  {
   "cell_type": "code",
   "execution_count": null,
   "id": "fd58156d",
   "metadata": {},
   "outputs": [],
   "source": [
    "# Step 6: Define CLS-based Embedding Function\n",
    "def get_cls_embedding(text):\n",
    "    inputs = tokenizer(text, return_tensors='pt', truncation=True, padding=True, max_length=128)\n",
    "    with torch.no_grad():\n",
    "        outputs = bert_model(**inputs)\n",
    "    cls_embedding = outputs.last_hidden_state[:, 0, :]  # CLS token\n",
    "    return cls_embedding.squeeze().numpy()"
   ]
  },
  {
   "cell_type": "code",
   "execution_count": null,
   "id": "251f578a",
   "metadata": {},
   "outputs": [],
   "source": [
    "# Step 7: Generate Embeddings\n",
    "embeddings = np.array([get_cls_embedding(text) for text in tqdm(docs)])"
   ]
  }
 ],
 "metadata": {
  "language_info": {
   "name": "python"
  }
 },
 "nbformat": 4,
 "nbformat_minor": 5
}
